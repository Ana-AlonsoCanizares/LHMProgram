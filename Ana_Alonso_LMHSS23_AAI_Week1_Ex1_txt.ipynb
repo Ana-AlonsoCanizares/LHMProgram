{
  "nbformat": 4,
  "nbformat_minor": 0,
  "metadata": {
    "colab": {
      "provenance": [],
      "machine_shape": "hm",
      "gpuType": "T4",
      "include_colab_link": true
    },
    "kernelspec": {
      "name": "python3",
      "display_name": "Python 3"
    },
    "language_info": {
      "name": "python"
    },
    "accelerator": "GPU"
  },
  "cells": [
    {
      "cell_type": "markdown",
      "metadata": {
        "id": "view-in-github",
        "colab_type": "text"
      },
      "source": [
        "<a href=\"https://colab.research.google.com/github/Ana-AlonsoCanizares/LHMProgram/blob/main/Ana_Alonso_LMHSS23_AAI_Week1_Ex1_txt.ipynb\" target=\"_parent\"><img src=\"https://colab.research.google.com/assets/colab-badge.svg\" alt=\"Open In Colab\"/></a>"
      ]
    },
    {
      "cell_type": "markdown",
      "source": [
        "Using the CIFAR10 data provided below, create an alogrithm that takes in a gray scale image and coverts it to a color image.\n",
        "\n",
        "Note for this problem we will define the grayscale image as the average of the three color channels."
      ],
      "metadata": {
        "id": "0FmLTZXJRbwP"
      }
    },
    {
      "cell_type": "code",
      "source": [
        "# Import libraries\n",
        "from torchvision.datasets import CIFAR10\n",
        "import torch\n",
        "from torch import nn\n",
        "import numpy as np\n",
        "from torch.utils.data import Dataset,DataLoader\n",
        "import torch.optim as optim\n",
        "\n",
        "from matplotlib import pyplot as plt"
      ],
      "metadata": {
        "id": "qDG_wYnA_MpU"
      },
      "execution_count": 1,
      "outputs": []
    },
    {
      "cell_type": "code",
      "source": [
        "# Download the data\n",
        "train_data = CIFAR10(root='./datasets', train=True, download=True)\n",
        "test_data = CIFAR10(root='./datasets', train=True, download=True)"
      ],
      "metadata": {
        "colab": {
          "base_uri": "https://localhost:8080/"
        },
        "id": "nhoa4MXe_TFU",
        "outputId": "74a5abaa-8ccd-4754-eb9c-d9f7e8326c49"
      },
      "execution_count": 2,
      "outputs": [
        {
          "output_type": "stream",
          "name": "stdout",
          "text": [
            "Downloading https://www.cs.toronto.edu/~kriz/cifar-10-python.tar.gz to ./datasets/cifar-10-python.tar.gz\n"
          ]
        },
        {
          "output_type": "stream",
          "name": "stderr",
          "text": [
            "100%|██████████| 170498071/170498071 [00:05<00:00, 28889916.50it/s]\n"
          ]
        },
        {
          "output_type": "stream",
          "name": "stdout",
          "text": [
            "Extracting ./datasets/cifar-10-python.tar.gz to ./datasets\n",
            "Files already downloaded and verified\n"
          ]
        }
      ]
    },
    {
      "cell_type": "code",
      "source": [
        "img=train_data[0][0]\n",
        "rgb_img=np.asarray(img)\n",
        "gray_img=np.average(rgb_img,axis=-1)\n",
        "print(f\"\\n The shape of the RGB images: {rgb_img.shape} The shape of the gray scale images: {gray_img.shape}\\n\")"
      ],
      "metadata": {
        "id": "w20IWX_MUTV2",
        "outputId": "ee119b24-a208-4b41-f580-32df3263f3a3",
        "colab": {
          "base_uri": "https://localhost:8080/"
        }
      },
      "execution_count": 4,
      "outputs": [
        {
          "output_type": "stream",
          "name": "stdout",
          "text": [
            "\n",
            " The shape of the RGB images: (32, 32, 3) The shape of the gray scale images: (32, 32)\n",
            "\n"
          ]
        }
      ]
    },
    {
      "cell_type": "code",
      "source": [
        "# RGB Image show\n",
        "plt.imshow(rgb_img)\n",
        "plt.show()"
      ],
      "metadata": {
        "colab": {
          "base_uri": "https://localhost:8080/",
          "height": 430
        },
        "id": "qFe9pxsy4FDY",
        "outputId": "3e74a2b6-06ff-4bb9-e972-7a9e3d0d1805"
      },
      "execution_count": 5,
      "outputs": [
        {
          "output_type": "display_data",
          "data": {
            "text/plain": [
              "<Figure size 640x480 with 1 Axes>"
            ],
            "image/png": "[encoded data removed]"
          },
          "metadata": {}
        }
      ]
    },
    {
      "cell_type": "code",
      "source": [
        "# Gray scale Image show\n",
        "plt.imshow(gray_img,cmap='gray')\n",
        "plt.show()"
      ],
      "metadata": {
        "colab": {
          "base_uri": "https://localhost:8080/",
          "height": 430
        },
        "id": "Vm2Cja1D4Nbw",
        "outputId": "5db5abc7-726f-41ef-b3a1-006839c676ca"
      },
      "execution_count": 6,
      "outputs": [
        {
          "output_type": "display_data",
          "data": {
            "text/plain": [
              "<Figure size 640x480 with 1 Axes>"
            ],
            "image/png": "[encoded data removed]"
          },
          "metadata": {}
        }
      ]
    },
    {
      "cell_type": "code",
      "source": [
        "# Handeling the data from the CIFAR10 format (32x32)\n",
        "# Taking CIFAR10 data and returning 2 tensors\n",
        "\n",
        "class Cifar_dataset(Dataset):\n",
        "    def __init__(self,data):\n",
        "        self.data=data\n",
        "\n",
        "    def __len__(self):\n",
        "        return len(self.data)\n",
        "\n",
        "    # Creating 2 tensors with the rgb and gray scale images\n",
        "    def __getitem__(self, idx):\n",
        "      rgb_img=np.asarray(self.data[idx][0])\n",
        "      gray_img=np.average(rgb_img,axis=-1)\n",
        "      rgb_img=rgb_img.reshape(-1,32,32)\n",
        "      gray_img=gray_img.reshape(-1,32,32)\n",
        "\n",
        "      return torch.tensor(gray_img,dtype=float),torch.tensor(rgb_img,dtype=float)"
      ],
      "metadata": {
        "id": "ONRLfSnc1QYY"
      },
      "execution_count": 7,
      "outputs": []
    },
    {
      "cell_type": "code",
      "source": [
        "# Preparing the dataset for training and testing in a DataLoader, to load and batching of data during the training and testing process\n",
        "\n",
        "train_dataset=Cifar_dataset(train_data)\n",
        "test_dataset=Cifar_dataset(test_data)\n",
        "\n",
        "# I am using the pin_memory=True to transfer the data to the GPU's pinned memory, making the process faster.\n",
        "train_loader = DataLoader(train_dataset,batch_size=64, shuffle=True, pin_memory=True)\n",
        "test_loader = DataLoader(test_dataset,batch_size=64, shuffle=False, pin_memory=True)"
      ],
      "metadata": {
        "id": "y5OyFx4F4vrb"
      },
      "execution_count": 8,
      "outputs": []
    },
    {
      "cell_type": "code",
      "source": [
        "# After asking for help, I chose to use Residual convolutionak blocks, because it\n",
        "# allows an efficient training of very deep networks and mitigates the vanishing gradient problem.\n",
        "\n",
        "class ResConvBlock(nn.Module):\n",
        "    def __init__(self, in_channels, out_channels, stride=1):\n",
        "        super(ResConvBlock, self).__init__()\n",
        "\n",
        "        # The main part of the model consists of 2 convolutional layers followed by batchNorm and using the ReLU activation.\n",
        "        self.conv1 = nn.Conv2d(in_channels, out_channels, kernel_size=3, stride=stride, padding=1, bias=False)\n",
        "        self.bn1 = nn.BatchNorm2d(out_channels)\n",
        "        self.relu = nn.ReLU(inplace=True)\n",
        "\n",
        "        self.conv2 = nn.Conv2d(out_channels, out_channels, kernel_size=3, stride=stride, padding=1, bias=False)\n",
        "        self.bn2 = nn.BatchNorm2d(out_channels)\n",
        "\n",
        "        # If the dims of the input and the output of the main part are not equal,\n",
        "        # another connection will be created with a convolutional layer and a batchNorm\n",
        "        self.shortcut = nn.Sequential()\n",
        "        if stride != 1 or in_channels != out_channels:\n",
        "            self.shortcut = nn.Sequential(\n",
        "                nn.Conv2d(in_channels, out_channels, kernel_size=1, stride=stride, bias=False),\n",
        "                nn.BatchNorm2d(out_channels)\n",
        "            )\n",
        "    # Forward pass. Conv layer, batchNorm and relu activation, the 'out' tensor\n",
        "    # then passes a 2nd conv layer and another batchNorm. The tensor to the shortcut connection.\n",
        "    #  Finally, Relu its applied to the tensor that will be returned.\n",
        "    def forward(self, x):\n",
        "        out = self.relu(self.bn1(self.conv1(x)))\n",
        "        out = self.bn2(self.conv2(out))\n",
        "        out += self.shortcut(x)\n",
        "        out = self.relu(out)\n",
        "        return out"
      ],
      "metadata": {
        "id": "WF-Nf7fq08O6"
      },
      "execution_count": 9,
      "outputs": []
    },
    {
      "cell_type": "code",
      "source": [
        "# Class with functions consisting of a series of encoder blocks followed by the\n",
        "# corresponding decoder blocks to compress and then reconstruct the input data.\n",
        "\n",
        "class Encoder_decoder(nn.Module):\n",
        "    # It takes 1 channel = gray scale and has 3 output channels = RGB\n",
        "    def __init__(self, in_channels=1, out_channels=3):\n",
        "        super(Encoder_decoder, self).__init__()\n",
        "\n",
        "        # Encoder. Using max pooling to reduce the dimensions by half.\n",
        "        self.encoder1 = ResConvBlock(in_channels, 64)\n",
        "        self.pool1 = nn.MaxPool2d(2, 2)\n",
        "        self.encoder2 = ResConvBlock(64, 128)\n",
        "        self.pool2 = nn.MaxPool2d(2, 2)\n",
        "        self.encoder3 = ResConvBlock(128, 256)\n",
        "\n",
        "        # Decoder. Reconstruction, opposite as the encoder. The upsample increases the dimension by 2.\n",
        "        self.decoder1 = ResConvBlock(256, 128)\n",
        "        self.upsample1 = nn.Upsample(scale_factor=2)\n",
        "        self.decoder2 = ResConvBlock(256, 64)\n",
        "        self.upsample2 = nn.Upsample(scale_factor=2)\n",
        "        # Last layer of the decoder, a convolutional layer\n",
        "        self.decoder3 = nn.Conv2d(128, out_channels, kernel_size=1)\n",
        "\n",
        "    # Forward pass for the encoding decoding part.\n",
        "    def forward(self, x):\n",
        "        enc1 = self.encoder1(x)\n",
        "        enc2 = self.encoder2(self.pool1(enc1))\n",
        "        enc3 = self.encoder3(self.pool2(enc2))\n",
        "\n",
        "        dec2 = self.upsample1(self.decoder1(enc3))\n",
        "        dec1 = self.upsample2(self.decoder2(torch.cat((dec2, enc2), dim=1)))\n",
        "\n",
        "        # The output of the dec2 is concatenated with the output of the enc1 block and passed through the decoder3 layer\n",
        "        return self.decoder3(torch.cat((dec1, enc1), dim=1))"
      ],
      "metadata": {
        "id": "ZrpF_UYE5fGR"
      },
      "execution_count": 14,
      "outputs": []
    },
    {
      "cell_type": "code",
      "source": [
        "# Set the hyperparameters\n",
        "num_epochs = 50\n",
        "learning_rate = 0.01\n",
        "\n",
        "# Model, Loss calculate using Mean Square Error and Adam Optimizer\n",
        "model = Encoder_decoder().cuda()  # Move model to GPU memory\n",
        "criterion = nn.MSELoss()\n",
        "optimizer = optim.Adam(model.parameters(), lr=learning_rate)\n",
        "\n",
        "# Training Loop\n",
        "for epoch in range(num_epochs):\n",
        "    Training_loss=0\n",
        "    model.train()  # Set model to training mode\n",
        "    # Iterates over the train_loader batches\n",
        "    for batch_idx, (data, target) in enumerate(train_loader):\n",
        "        # Move data and target to GPU memory\n",
        "        data, target = data.float().cuda(), target.float().cuda()\n",
        "\n",
        "        # Forward pass\n",
        "        output = model(data)\n",
        "        loss = criterion(output, target)\n",
        "\n",
        "        # Backward pass computing the gradients of the loss, updating the model's\n",
        "        # parameters and accumulating the training loss for each epoch\n",
        "        optimizer.zero_grad()\n",
        "        loss.backward()\n",
        "        optimizer.step()\n",
        "        Training_loss+=loss.item()\n",
        "\n",
        "    # Validation\n",
        "    model.eval()  # Set model to evaluation mode\n",
        "    validation_loss = 0\n",
        "    with torch.no_grad():\n",
        "        # Iterates over the test_loader batches\n",
        "        for data, target in test_loader:\n",
        "            data, target = data.float().cuda(), target.float().cuda()\n",
        "            output = model(data)\n",
        "            validation_loss += criterion(output, target).item()  # Adding the batch loss\n",
        "\n",
        "    # Average of the trainning and testing loss\n",
        "    validation_loss /= len(test_loader)\n",
        "    Training_loss /= len(train_loader)\n",
        "    print(f\"\\n Training set average Loss: {Training_loss} Validation set average loss: {validation_loss:.4f}\\n\")"
      ],
      "metadata": {
        "colab": {
          "base_uri": "https://localhost:8080/"
        },
        "id": "Ps2wsZva7jhl",
        "outputId": "092e4741-0d45-40ec-e763-aca44b2ae055"
      },
      "execution_count": 15,
      "outputs": [
        {
          "output_type": "stream",
          "name": "stdout",
          "text": [
            "\n",
            " Training set Loss: 2562.865674889606 Validation set: Average loss: 1710.7569\n",
            "\n",
            "\n",
            " Training set Loss: 1660.740624000959 Validation set: Average loss: 1622.9590\n",
            "\n",
            "\n",
            " Training set Loss: 1610.545174757233 Validation set: Average loss: 1581.9810\n",
            "\n",
            "\n",
            " Training set Loss: 1581.4604790338774 Validation set: Average loss: 1579.0760\n",
            "\n",
            "\n",
            " Training set Loss: 1564.0134024461518 Validation set: Average loss: 1546.7169\n",
            "\n",
            "\n",
            " Training set Loss: 1560.446305296915 Validation set: Average loss: 1536.9849\n",
            "\n",
            "\n",
            " Training set Loss: 1546.8306105825907 Validation set: Average loss: 1541.3498\n",
            "\n",
            "\n",
            " Training set Loss: 1539.5878836004936 Validation set: Average loss: 1576.2318\n",
            "\n",
            "\n",
            " Training set Loss: 1533.370580492727 Validation set: Average loss: 1575.0918\n",
            "\n",
            "\n",
            " Training set Loss: 1528.3458484542339 Validation set: Average loss: 1513.8313\n",
            "\n",
            "\n",
            " Training set Loss: 1522.087276370934 Validation set: Average loss: 1517.1754\n",
            "\n",
            "\n",
            " Training set Loss: 1515.0041828594549 Validation set: Average loss: 1573.1042\n",
            "\n",
            "\n",
            " Training set Loss: 1509.0203041018124 Validation set: Average loss: 1506.4850\n",
            "\n",
            "\n",
            " Training set Loss: 1501.3136562337656 Validation set: Average loss: 1523.1978\n",
            "\n",
            "\n",
            " Training set Loss: 1498.8202598942514 Validation set: Average loss: 1498.0504\n",
            "\n",
            "\n",
            " Training set Loss: 1496.9400945404911 Validation set: Average loss: 1498.3705\n",
            "\n",
            "\n",
            " Training set Loss: 1492.1455769648637 Validation set: Average loss: 1494.7442\n",
            "\n",
            "\n",
            " Training set Loss: 1490.5580996930446 Validation set: Average loss: 1505.8288\n",
            "\n",
            "\n",
            " Training set Loss: 1488.3596313164362 Validation set: Average loss: 1490.6005\n",
            "\n",
            "\n",
            " Training set Loss: 1485.7877217558644 Validation set: Average loss: 1502.1531\n",
            "\n",
            "\n",
            " Training set Loss: 1485.2542804220448 Validation set: Average loss: 1568.7492\n",
            "\n",
            "\n",
            " Training set Loss: 1485.2837251238811 Validation set: Average loss: 1476.3586\n",
            "\n",
            "\n",
            " Training set Loss: 1480.5890042434264 Validation set: Average loss: 1512.9356\n",
            "\n",
            "\n",
            " Training set Loss: 1479.3238757979839 Validation set: Average loss: 1496.3291\n",
            "\n",
            "\n",
            " Training set Loss: 1477.8459119869924 Validation set: Average loss: 1491.3383\n",
            "\n",
            "\n",
            " Training set Loss: 1476.9379942130554 Validation set: Average loss: 1486.9405\n",
            "\n",
            "\n",
            " Training set Loss: 1476.298514675911 Validation set: Average loss: 1470.9011\n",
            "\n",
            "\n",
            " Training set Loss: 1473.3137455230478 Validation set: Average loss: 1483.8959\n",
            "\n",
            "\n",
            " Training set Loss: 1471.5538373786164 Validation set: Average loss: 1482.3556\n",
            "\n",
            "\n",
            " Training set Loss: 1471.2439092845868 Validation set: Average loss: 1484.5417\n",
            "\n",
            "\n",
            " Training set Loss: 1469.0389721180168 Validation set: Average loss: 1492.9164\n",
            "\n",
            "\n",
            " Training set Loss: 1468.6784719481798 Validation set: Average loss: 1477.0641\n",
            "\n",
            "\n",
            " Training set Loss: 1466.9165051550513 Validation set: Average loss: 1471.5762\n",
            "\n",
            "\n",
            " Training set Loss: 1467.3704990084518 Validation set: Average loss: 1477.6676\n",
            "\n",
            "\n",
            " Training set Loss: 1466.2536619532748 Validation set: Average loss: 1473.3918\n",
            "\n",
            "\n",
            " Training set Loss: 1466.1189445632192 Validation set: Average loss: 1475.8315\n",
            "\n",
            "\n",
            " Training set Loss: 1463.84316400006 Validation set: Average loss: 1474.5266\n",
            "\n",
            "\n",
            " Training set Loss: 1463.6162441868307 Validation set: Average loss: 1471.9466\n",
            "\n",
            "\n",
            " Training set Loss: 1463.3387657224064 Validation set: Average loss: 1486.2511\n",
            "\n",
            "\n",
            " Training set Loss: 1463.1587226262789 Validation set: Average loss: 1494.7730\n",
            "\n",
            "\n",
            " Training set Loss: 1461.4315688189338 Validation set: Average loss: 1473.3112\n",
            "\n",
            "\n",
            " Training set Loss: 1462.4083646886488 Validation set: Average loss: 1471.0137\n",
            "\n",
            "\n",
            " Training set Loss: 1460.6977787261728 Validation set: Average loss: 1460.8409\n",
            "\n",
            "\n",
            " Training set Loss: 1460.491979106308 Validation set: Average loss: 1469.0130\n",
            "\n",
            "\n",
            " Training set Loss: 1459.0085812932084 Validation set: Average loss: 1466.7112\n",
            "\n",
            "\n",
            " Training set Loss: 1460.6230307966853 Validation set: Average loss: 1464.6395\n",
            "\n",
            "\n",
            " Training set Loss: 1458.5653471105238 Validation set: Average loss: 1464.1463\n",
            "\n",
            "\n",
            " Training set Loss: 1458.9611663428109 Validation set: Average loss: 1466.7822\n",
            "\n",
            "\n",
            " Training set Loss: 1457.4534297074808 Validation set: Average loss: 1469.8067\n",
            "\n",
            "\n",
            " Training set Loss: 1457.9033359225143 Validation set: Average loss: 1465.3033\n",
            "\n"
          ]
        }
      ]
    },
    {
      "cell_type": "code",
      "source": [
        "# The first image sample from the test_data dataset\n",
        "img=test_data[0][0]\n",
        "img"
      ],
      "metadata": {
        "id": "4huo6NQpNwGB"
      },
      "execution_count": 16,
      "outputs": []
    },
    {
      "cell_type": "code",
      "source": [
        "# RGB tensor conversion to numpy array, gray scale and then to a tensor with 1 channel\n",
        "rgb_img=np.asarray(img)\n",
        "gray_img=np.average(rgb_img,axis=-1)\n",
        "input=torch.tensor(gray_img).float().view(1,1,32,32).cuda()\n",
        "\n",
        "# Calling the model with the input, reshaped in (32x32x3) dim and detached cause\n",
        "# there is no need more gradient calculation\n",
        "output=model(input)\n",
        "output=output.view(32,32,3).cpu()\n",
        "output=output.detach().numpy()"
      ],
      "metadata": {
        "id": "M2AtWW_UN-_X"
      },
      "execution_count": 27,
      "outputs": []
    },
    {
      "cell_type": "code",
      "source": [
        "plt.imshow(rgb_img)\n",
        "plt.title('RGB Image')"
      ],
      "metadata": {
        "id": "yXXFaHKqOr_i",
        "colab": {
          "base_uri": "https://localhost:8080/",
          "height": 469
        },
        "outputId": "7dc5af92-f207-4533-e375-7397a5b88d44"
      },
      "execution_count": 24,
      "outputs": [
        {
          "output_type": "execute_result",
          "data": {
            "text/plain": [
              "Text(0.5, 1.0, 'RGB Image')"
            ]
          },
          "metadata": {},
          "execution_count": 24
        },
        {
          "output_type": "display_data",
          "data": {
            "text/plain": [
              "<Figure size 640x480 with 1 Axes>"
            ],
            "image/png": "[encoded data removed]"
          },
          "metadata": {}
        }
      ]
    },
    {
      "cell_type": "code",
      "source": [
        "plt.imshow(gray_img,cmap='gray')\n",
        "plt.title('Gray Image')"
      ],
      "metadata": {
        "id": "aRj0VHr7Ot0J",
        "colab": {
          "base_uri": "https://localhost:8080/",
          "height": 469
        },
        "outputId": "4742c213-0522-48cd-ea30-1f777d9b27d3"
      },
      "execution_count": 25,
      "outputs": [
        {
          "output_type": "execute_result",
          "data": {
            "text/plain": [
              "Text(0.5, 1.0, 'Gray Image')"
            ]
          },
          "metadata": {},
          "execution_count": 25
        },
        {
          "output_type": "display_data",
          "data": {
            "text/plain": [
              "<Figure size 640x480 with 1 Axes>"
            ],
            "image/png": "[encoded data removed]"
          },
          "metadata": {}
        }
      ]
    },
    {
      "cell_type": "code",
      "source": [
        "# Integer conversion and shown of the test image\n",
        "output=output.astype(int)\n",
        "\n",
        "plt.imshow(output)\n",
        "plt.title('Predicted RGB Image')"
      ],
      "metadata": {
        "id": "FJpFAWdePDt5",
        "colab": {
          "base_uri": "https://localhost:8080/",
          "height": 469
        },
        "outputId": "43f5129f-dda6-46b0-b2d3-0b665cd7d3ed"
      },
      "execution_count": 26,
      "outputs": [
        {
          "output_type": "execute_result",
          "data": {
            "text/plain": [
              "Text(0.5, 1.0, 'Predicted RGB Image')"
            ]
          },
          "metadata": {},
          "execution_count": 26
        },
        {
          "output_type": "display_data",
          "data": {
            "text/plain": [
              "<Figure size 640x480 with 1 Axes>"
            ],
            "image/png": "[encoded data removed]"
          },
          "metadata": {}
        }
      ]
    }
  ]
}